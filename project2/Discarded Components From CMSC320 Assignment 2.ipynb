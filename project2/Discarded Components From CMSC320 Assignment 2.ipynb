{
 "cells": [
  {
   "cell_type": "markdown",
   "id": "collected-classroom",
   "metadata": {},
   "source": [
    "# Discarded Components From CMSC320 Assignment 2"
   ]
  },
  {
   "cell_type": "code",
   "execution_count": null,
   "id": "peripheral-buddy",
   "metadata": {},
   "outputs": [],
   "source": [
    "\"\"\"\n",
    "plt.figure(figsize=(6*len(payrolls_binned), 6*2))\n",
    "for i in range(len(payrolls_binned)):\n",
    "    # Put 5-year plots next to each other horizontally\n",
    "    plt.subplot(2, len(payrolls_binned), i+1)\n",
    "    # Plot points\n",
    "    x = payrolls_binned[i].totalPayroll\n",
    "    y = payrolls_binned[i].winPercentage\n",
    "    labels = payrolls_binned[i].teamID\n",
    "    labels = labels[~labels.isnull()]\n",
    "    \n",
    "    sns.scatterplot(x=x, y=y)\n",
    "    # Add team labels\n",
    "    for (label, xval, yval) in zip(labels, x, y):\n",
    "        plt.annotate(label, (xval, yval))\n",
    "    \n",
    "    # Repeat process to show colors as well\n",
    "    plt.subplot(2, len(payrolls_binned), len(payrolls_binned)+i+1)\n",
    "    sns.scatterplot(x=x, y=y, hue=labels)\n",
    "    plt.legend([],[], frameon=False)\n",
    "    # Plot line of best fit\n",
    "    m, b = np.polyfit(x, y, 1)\n",
    "    plt.plot(x, m*x+b)\n",
    "\"\"\""
   ]
  },
  {
   "cell_type": "code",
   "execution_count": null,
   "id": "laughing-festival",
   "metadata": {},
   "outputs": [],
   "source": [
    "plt.figure(figsize=(12, 7*len(payrolls_binned)))\n",
    "for i in range(len(payrolls_binned)):\n",
    "    plt.subplot(len(payrolls_binned), 1, i+1)\n",
    "    # Get aggregate wins, salary for each team\n",
    "    dfg = payrolls_binned[i].groupby(\"teamID\").agg([\"sum\",\"mean\"]).reset_index()\n",
    "    x = dfg[\"totalPayroll\"][\"mean\"]\n",
    "    y = dfg.apply(lambda e: e[\"W\"][\"sum\"] / e[\"G\"][\"sum\"] * 100, axis=1)\n",
    "    \n",
    "    [print(x) for x in list(zip(dfg[\"teamID\"], y, \\\n",
    "        dfg[\"winPercentage\"][\"mean\"], dfg[\"totalPayroll\"][\"mean\"]))]\n",
    "    \n",
    "    dfg[\"avgTotalPayroll\"] = x\n",
    "    dfg[\"avgWinPercentage\"] = y\n",
    "    sns.scatterplot(x=\"avgTotalPayroll\", y=\"avgWinPercentage\", hue=\"teamID\", \\\n",
    "                    data=dfg, legend=False)\n",
    "    \n",
    "    # Add labels\n",
    "    plt.title(f\"Average Total Payrolls vs Average Win Percentage From {1990+i*5} to {1990+(i+1)*5-1}\")\n",
    "    plt.xlabel(\"Average Total Payrolls (tens of millions of dollars)\")\n",
    "    plt.ylabel(\"Average Win Percentage (%)\")\n",
    "        \n",
    "    # Add team labels\n",
    "    for (label, xval, yval) in zip(dfg[\"teamID\"], x, y):\n",
    "        plt.annotate(label, (xval, yval))\n",
    "    \n",
    "    # Plot line of best fit\n",
    "    p = np.poly1d(np.polyfit(x, y, 1))\n",
    "    plt.plot([min(x),max(x)], [p(min(x)), p(max(x))])\n",
    "    \n",
    "    "
   ]
  },
  {
   "cell_type": "markdown",
   "id": "laden-complaint",
   "metadata": {},
   "source": [
    "### Question 2"
   ]
  },
  {
   "cell_type": "markdown",
   "id": "thirty-immunology",
   "metadata": {},
   "source": [
    "Furthermore, if we make a violin plot for each of the teams's \"payroll efficiency\" in this interval:"
   ]
  },
  {
   "cell_type": "code",
   "execution_count": null,
   "id": "living-chess",
   "metadata": {},
   "outputs": [],
   "source": [
    "plt.figure(figsize=(30, 6))\n",
    "payrolls_2000_2004 = payrolls_binned[2]\n",
    "# Add new column for total payroll divided by win percentage\n",
    "# Ignore the warning, since it works well enough in this case\n",
    "payrolls_2000_2004[\"costPerWinPercent\"] = \\\n",
    "    payrolls_2000_2004.totalPayroll / payrolls_2000_2004.winPercentage\n",
    "# Plot 'cost per win percentage' for each team in this interval\n",
    "sns.violinplot(x=\"teamID\", y=\"costPerWinPercent\", data=payrolls_2000_2004)"
   ]
  },
  {
   "cell_type": "markdown",
   "id": "victorian-engagement",
   "metadata": {},
   "source": [
    "The plot shows that the Oakland Athletics also were consistently efficient with their payroll, as shown by their low interquartile range. "
   ]
  },
  {
   "cell_type": "markdown",
   "id": "irish-sacramento",
   "metadata": {},
   "source": [
    "### Question 7"
   ]
  },
  {
   "cell_type": "code",
   "execution_count": null,
   "id": "polish-regular",
   "metadata": {},
   "outputs": [],
   "source": [
    "plt.figure(figsize=(15, 30))\n",
    "x = payrolls_range.standardizedPayroll\n",
    "y = payrolls_range.winPercentage\n",
    "labels = payrolls_range.teamID\n",
    "labels = labels[~labels.isnull()]\n",
    "\n",
    "# Plot data with team labels\n",
    "plt.subplot(2,1,1)\n",
    "sns.scatterplot(x=x, y=y)\n",
    "# Add team labels\n",
    "for (label, xval, yval) in zip(labels, x, y):\n",
    "    plt.annotate(label, (xval, yval))\n",
    "    \n",
    "# Plot data with colors, trend line\n",
    "plt.subplot(2,1,2)\n",
    "sns.scatterplot(x=x, y=y, hue=labels)\n",
    "plt.legend(loc='lower right', ncol=2)\n",
    "# Plot line of best fit\n",
    "m, b = np.polyfit(x, y, 1)\n",
    "plt.plot(x, m*x+b)"
   ]
  }
 ],
 "metadata": {
  "kernelspec": {
   "display_name": "Python 3",
   "language": "python",
   "name": "python3"
  },
  "language_info": {
   "codemirror_mode": {
    "name": "ipython",
    "version": 3
   },
   "file_extension": ".py",
   "mimetype": "text/x-python",
   "name": "python",
   "nbconvert_exporter": "python",
   "pygments_lexer": "ipython3",
   "version": "3.8.6"
  }
 },
 "nbformat": 4,
 "nbformat_minor": 5
}
