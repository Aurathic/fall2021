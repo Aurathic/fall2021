{
 "cells": [
  {
   "cell_type": "markdown",
   "id": "linear-lawyer",
   "metadata": {},
   "source": [
    "After looking through the [complete list of crime codes](https://data.baltimorecity.gov/documents/baltimore::crime-codes/about), there are some other obvious categories:\n",
    "\n",
    "- `1[A-Z]`: Murder\n",
    "- `20[A-Z]`: Administrative\n",
    "- `2[1-79].?`: Car Offenses\n",
    "    - For some reason, `28` is suicides\n",
    "- `2[A-Z]`: Carnal Offenses\n",
    "- `3[0-9]`: ?????\n",
    "- `3[A-Z]+`: Robberies\n",
    "- `4[0-9]`:\n",
    "- `4[A-Z]`: Assault\n",
    "- `5[0-9]\\w*`: Disturbances\n",
    "- `5[A-Z]`: Burglary\n",
    "- \n",
    "- `6[A-Z]`: Larceny\n",
    "- `7[A-Z]`: Theft\n",
    "- `8[A-Z]+`: Arson\n"
   ]
  }
 ],
 "metadata": {
  "kernelspec": {
   "display_name": "Python 3",
   "language": "python",
   "name": "python3"
  },
  "language_info": {
   "codemirror_mode": {
    "name": "ipython",
    "version": 3
   },
   "file_extension": ".py",
   "mimetype": "text/x-python",
   "name": "python",
   "nbconvert_exporter": "python",
   "pygments_lexer": "ipython3",
   "version": "3.8.6"
  }
 },
 "nbformat": 4,
 "nbformat_minor": 5
}
