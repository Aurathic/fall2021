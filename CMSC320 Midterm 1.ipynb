{
 "cells": [
  {
   "cell_type": "code",
   "execution_count": 38,
   "id": "confused-dietary",
   "metadata": {},
   "outputs": [],
   "source": [
    "import networkx as nx\n",
    "import numpy as np\n",
    "import scipy.stats as stats\n",
    "from fractions import Fraction"
   ]
  },
  {
   "cell_type": "markdown",
   "id": "polish-sullivan",
   "metadata": {},
   "source": [
    "### Q3"
   ]
  },
  {
   "cell_type": "code",
   "execution_count": 7,
   "id": "comparable-allen",
   "metadata": {},
   "outputs": [
    {
     "data": {
      "image/png": "[encoded data removed]",
      "text/plain": [
       "<Figure size 432x288 with 1 Axes>"
      ]
     },
     "metadata": {},
     "output_type": "display_data"
    }
   ],
   "source": [
    "G=nx.Graph()\n",
    "G.add_nodes_from([1,2,3,4,5,6,7,8,9])\n",
    "G.add_edges_from([(1,2), (1,3), (1,4), (2,4),\n",
    "                  (4,5), (5,6), (5,7), (5,9),\n",
    "                  (6,8), (7,9), (8,9)])\n",
    "nx.draw(G, with_labels=True)"
   ]
  },
  {
   "cell_type": "code",
   "execution_count": 67,
   "id": "compound-heater",
   "metadata": {},
   "outputs": [
    {
     "name": "stdout",
     "output_type": "stream",
     "text": [
      "{1: 0.375, 2: 0.25, 3: 0.125, 4: 0.375, 5: 0.5, 6: 0.25, 7: 0.25, 8: 0.25, 9: 0.375}\n",
      "{1: 0.4444444444444444, 2: 0.42105263157894735, 3: 0.32, 4: 0.5714285714285714, 5: 0.6153846153846154, 6: 0.4444444444444444, 7: 0.4444444444444444, 8: 0.36363636363636365, 9: 0.47058823529411764}\n",
      "{1: 7.0, 2: 0.0, 3: 0.0, 4: 15.0, 5: 17.5, 6: 2.5, 7: 0.0, 8: 0.5, 9: 3.5}\n"
     ]
    }
   ],
   "source": [
    "dc = nx.degree_centrality(G)\n",
    "print(dc)\n",
    "cc = nx.closeness_centrality(G)\n",
    "print(cc)\n",
    "bc = nx.betweenness_centrality(G, normalized=False)\n",
    "print(bc)"
   ]
  },
  {
   "cell_type": "code",
   "execution_count": 68,
   "id": "romance-composition",
   "metadata": {},
   "outputs": [
    {
     "name": "stdout",
     "output_type": "stream",
     "text": [
      "dc, 3: 1/8\n",
      "dc, 1: 3/8\n",
      "dc, 7: 1/4\n",
      "---\n",
      "cc, 3: 8/25\n",
      "cc, 1: 4/9\n",
      "cc, 7: 4/9\n",
      "---\n",
      "bc, 3: 0\n",
      "bc, 1: 7\n",
      "bc, 7: 0\n",
      "---\n"
     ]
    }
   ],
   "source": [
    "for (n, c) in zip([\"dc\", \"cc\", \"bc\"], [dc, cc, bc]):\n",
    "    for v in [3, 1, 7]:\n",
    "        print(f\"{n}, {v}: {Fraction(c[v]).limit_denominator(1000)}\")\n",
    "    print(\"---\")"
   ]
  },
  {
   "cell_type": "markdown",
   "id": "patient-anthropology",
   "metadata": {},
   "source": [
    "### Q4"
   ]
  },
  {
   "cell_type": "code",
   "execution_count": 55,
   "id": "prospective-surface",
   "metadata": {},
   "outputs": [
    {
     "name": "stdout",
     "output_type": "stream",
     "text": [
      "21.88888888888889\n",
      "10\n",
      "ModeResult(mode=array([1]), count=array([1]))\n",
      "1232.5432098765434\n",
      "---\n"
     ]
    }
   ],
   "source": [
    "pop = [1, 4, 5, 9, 10, 14, 15, 19, 120]\n",
    "mean = np.mean(pop)\n",
    "print(mean)\n",
    "median = int(np.median(pop))\n",
    "print(median)\n",
    "mode = stats.mode(pop)\n",
    "print(mode)\n",
    "variance = np.var(pop)\n",
    "print(variance)\n",
    "print(\"---\")"
   ]
  },
  {
   "cell_type": "code",
   "execution_count": 84,
   "id": "brazilian-bridges",
   "metadata": {},
   "outputs": [
    {
     "name": "stdout",
     "output_type": "stream",
     "text": [
      "1.578983857244667e-15\n",
      "11.88888888888889\n"
     ]
    }
   ],
   "source": [
    "def MAD(p,m):\n",
    "    pv = [x_i - m for x_i in p]\n",
    "    #print(pv)\n",
    "    return sum(pv)/len(p)\n",
    "    #return Fraction(sum(pv)/len(p)).limit_denominator(1000)\n",
    "\n",
    "print(MAD(pop,mean))\n",
    "print(MAD(pop,median))"
   ]
  },
  {
   "cell_type": "code",
   "execution_count": 81,
   "id": "fifth-valentine",
   "metadata": {
    "scrolled": true
   },
   "outputs": [
    {
     "name": "stdout",
     "output_type": "stream",
     "text": [
      "16269547.222222222\n"
     ]
    }
   ],
   "source": [
    "def quad_deviation(p):\n",
    "    q = sum([(x_i - median) ** 4 for x_i in p])/len(p)\n",
    "    return q\n",
    "\n",
    "print(quad_deviation(pop))"
   ]
  },
  {
   "cell_type": "code",
   "execution_count": 88,
   "id": "civil-congo",
   "metadata": {},
   "outputs": [
    {
     "name": "stdout",
     "output_type": "stream",
     "text": [
      "147871.88888888888\n"
     ]
    }
   ],
   "source": [
    "def cube_deviation(p):\n",
    "    return sum([(x_i - median)**3 for x_i in p])/len(p)\n",
    "\n",
    "print(cube_deviation(pop))"
   ]
  },
  {
   "cell_type": "code",
   "execution_count": 85,
   "id": "floppy-punishment",
   "metadata": {
    "scrolled": false
   },
   "outputs": [
    {
     "name": "stdout",
     "output_type": "stream",
     "text": [
      "-12.26388888888889\n",
      "-16267556.597222222\n",
      "-147891.01388888888\n",
      "-1199.5588348765434\n"
     ]
    }
   ],
   "source": [
    "pop2 = [1, 4, 5, 9, 10, 14, 15, 19]\n",
    "print(f\"{MAD(pop2,mean)-MAD(pop,mean)}\")\n",
    "print(f\"{quad_deviation(pop2)-quad_deviation(pop)}\")\n",
    "print(f\"{cube_deviation(pop2)-cube_deviation(pop)}\")\n",
    "print(f\"{np.var(pop2)-np.var(pop)}\")"
   ]
  },
  {
   "cell_type": "markdown",
   "id": "buried-express",
   "metadata": {},
   "source": [
    "![https://replit.com/@AdamL1/VagueConsciousButton#main.sql](SQLite Repl)"
   ]
  }
 ],
 "metadata": {
  "kernelspec": {
   "display_name": "Python 3",
   "language": "python",
   "name": "python3"
  },
  "language_info": {
   "codemirror_mode": {
    "name": "ipython",
    "version": 3
   },
   "file_extension": ".py",
   "mimetype": "text/x-python",
   "name": "python",
   "nbconvert_exporter": "python",
   "pygments_lexer": "ipython3",
   "version": "3.8.6"
  }
 },
 "nbformat": 4,
 "nbformat_minor": 5
}
