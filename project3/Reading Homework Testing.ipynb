{
 "cells": [
  {
   "cell_type": "code",
   "execution_count": 3,
   "id": "later-future",
   "metadata": {},
   "outputs": [],
   "source": [
    "import numpy as np\n",
    "from sklearn import linear_model"
   ]
  },
  {
   "cell_type": "code",
   "execution_count": 6,
   "id": "mature-compression",
   "metadata": {},
   "outputs": [],
   "source": [
    "height = np.array([65.78331, 71.51521, 69.39874, 68.2166, 67.78781, 68.69784, 69.80204, 70.01472, 67.90265, 66.78236])\n",
    "weight = np.array([112.9925, 136.4873, 153.0269, 142.3354, 144.2971, 123.3024, 141.4947, 136.4623, 112.3723, 120.6672])"
   ]
  },
  {
   "cell_type": "code",
   "execution_count": 7,
   "id": "imposed-skirt",
   "metadata": {},
   "outputs": [
    {
     "data": {
      "text/plain": [
       "1.5849879740162074"
      ]
     },
     "execution_count": 7,
     "metadata": {},
     "output_type": "execute_result"
    }
   ],
   "source": [
    "np.std(height)"
   ]
  },
  {
   "cell_type": "code",
   "execution_count": 8,
   "id": "weighted-arcade",
   "metadata": {},
   "outputs": [
    {
     "data": {
      "text/plain": [
       "4.802975421240089"
      ]
     },
     "execution_count": 8,
     "metadata": {},
     "output_type": "execute_result"
    }
   ],
   "source": [
    "reg = linear_model.LinearRegression()\n",
    "height = np.array([[h] for h in height])\n",
    "reg.fit(height, weight)\n",
    "reg.coef_[0]"
   ]
  }
 ],
 "metadata": {
  "kernelspec": {
   "display_name": "Python 3",
   "language": "python",
   "name": "python3"
  },
  "language_info": {
   "codemirror_mode": {
    "name": "ipython",
    "version": 3
   },
   "file_extension": ".py",
   "mimetype": "text/x-python",
   "name": "python",
   "nbconvert_exporter": "python",
   "pygments_lexer": "ipython3",
   "version": "3.8.6"
  }
 },
 "nbformat": 4,
 "nbformat_minor": 5
}
