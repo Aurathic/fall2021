{
 "cells": [
  {
   "cell_type": "markdown",
   "id": "enabling-layout",
   "metadata": {},
   "source": [
    "**Exercise 6**"
   ]
  },
  {
   "cell_type": "code",
   "execution_count": null,
   "id": "continental-behalf",
   "metadata": {},
   "outputs": [],
   "source": [
    "from patsy import dmatrices\n",
    "y, x = dmatrices(\"lifeExp ~ year + year:continent\", data, return_type='dataframe')\n",
    "reg = sk.linear_model.LinearRegression()\n",
    "reg.fit(x,y)\n",
    "\n",
    "# Printing the result\n",
    "coef_vars = [f\"{coef} * {var}\\n\" for (coef, var) in zip(reg.coef_[0],x.columns)]\n",
    "print(\" + \".join([str(reg.intercept_[0]) + \"\\n\"] + coef_vars[1:]))"
   ]
  },
  {
   "cell_type": "markdown",
   "id": "complete-blend",
   "metadata": {},
   "source": [
    "**Part 2**"
   ]
  },
  {
   "cell_type": "code",
   "execution_count": null,
   "id": "informed-participant",
   "metadata": {},
   "outputs": [],
   "source": [
    "# Calculating paired t test between cross validation classifiers for each set of 2 classifiers\n",
    "from itertools import combinations\n",
    "from scipy.stats import ttest_rel\n",
    "\n",
    "def display_paired_ttest_cv_models(classifiers):\n",
    "    for ((ai,a),(bi,b)) in combinations(enumerate(classifiers),2):\n",
    "        ttest = ttest_rel(a.predict(x),b.predict(x))\n",
    "        significant = \"(< 0.05)\" if ttest.pvalue < 0.05 else \"\"\n",
    "        print(\"Paired t test between %d and %d has p value %0.3f %s\" % (ai, bi, ttest.pvalue, significant))\n",
    "\n",
    "print(\"--- Linear Discriminant Analysis ---\")\n",
    "display_paired_ttest_cv_models(clfs_lda)\n",
    "print(\"--- Decision Tree ---\")\n",
    "display_paired_ttest_cv_models(clfs_dt)"
   ]
  },
  {
   "cell_type": "markdown",
   "id": "governmental-action",
   "metadata": {},
   "source": [
    "Some of the models do show a statistically significant difference from one another, but that is to be expected when comparing so many models."
   ]
  },
  {
   "cell_type": "code",
   "execution_count": null,
   "id": "lightweight-wagner",
   "metadata": {},
   "outputs": [],
   "source": [
    "# Calculating paired t test between cross validation classifiers for each set of 2 classifiers\n",
    "from itertools import combinations\n",
    "from scipy.stats import ttest_rel\n",
    "\n",
    "def display_paired_ttest_cv_models(classifiers):\n",
    "    for (ai,a) in enumerate(classifiers):\n",
    "        ttest = ttest_rel(a.predict(x),y)\n",
    "        significant = \"(< 0.05)\" if ttest.pvalue < 0.05 else \"\"\n",
    "        print(\"Paired t test between classifier %d and real data has p value %0.3f %s\" % (ai, ttest.pvalue, significant))\n",
    "\n",
    "print(\"--- Linear Discriminant Analysis ---\")\n",
    "display_paired_ttest_cv_models(clfs_lda)\n",
    "print(\"--- Decision Tree ---\")\n",
    "display_paired_ttest_cv_models(clfs_dt)"
   ]
  }
 ],
 "metadata": {
  "kernelspec": {
   "display_name": "Python 3",
   "language": "python",
   "name": "python3"
  },
  "language_info": {
   "codemirror_mode": {
    "name": "ipython",
    "version": 3
   },
   "file_extension": ".py",
   "mimetype": "text/x-python",
   "name": "python",
   "nbconvert_exporter": "python",
   "pygments_lexer": "ipython3",
   "version": "3.8.6"
  }
 },
 "nbformat": 4,
 "nbformat_minor": 5
}
