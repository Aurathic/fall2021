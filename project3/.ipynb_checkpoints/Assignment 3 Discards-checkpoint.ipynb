{
 "cells": [
  {
   "cell_type": "markdown",
   "id": "enabling-layout",
   "metadata": {},
   "source": [
    "**Exercise 6**"
   ]
  },
  {
   "cell_type": "code",
   "execution_count": null,
   "id": "continental-behalf",
   "metadata": {},
   "outputs": [],
   "source": [
    "from patsy import dmatrices\n",
    "y, x = dmatrices(\"lifeExp ~ year + year:continent\", data, return_type='dataframe')\n",
    "reg = sk.linear_model.LinearRegression()\n",
    "reg.fit(x,y)\n",
    "\n",
    "# Printing the result\n",
    "coef_vars = [f\"{coef} * {var}\\n\" for (coef, var) in zip(reg.coef_[0],x.columns)]\n",
    "print(\" + \".join([str(reg.intercept_[0]) + \"\\n\"] + coef_vars[1:]))"
   ]
  }
 ],
 "metadata": {
  "kernelspec": {
   "display_name": "Python 3",
   "language": "python",
   "name": "python3"
  },
  "language_info": {
   "codemirror_mode": {
    "name": "ipython",
    "version": 3
   },
   "file_extension": ".py",
   "mimetype": "text/x-python",
   "name": "python",
   "nbconvert_exporter": "python",
   "pygments_lexer": "ipython3",
   "version": "3.8.6"
  }
 },
 "nbformat": 4,
 "nbformat_minor": 5
}
